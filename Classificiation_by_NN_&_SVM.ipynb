{
  "nbformat": 4,
  "nbformat_minor": 0,
  "metadata": {
    "colab": {
      "provenance": [],
      "authorship_tag": "ABX9TyNBDFgmV/Kx2tcogOb7D6+X",
      "include_colab_link": true
    },
    "kernelspec": {
      "name": "python3",
      "display_name": "Python 3"
    },
    "language_info": {
      "name": "python"
    }
  },
  "cells": [
    {
      "cell_type": "markdown",
      "metadata": {
        "id": "view-in-github",
        "colab_type": "text"
      },
      "source": [
        "<a href=\"https://colab.research.google.com/github/AK-Github-0/Classifiication-of-Moon-Dataset/blob/main/Classificiation_by_NN_%26_SVM.ipynb\" target=\"_parent\"><img src=\"https://colab.research.google.com/assets/colab-badge.svg\" alt=\"Open In Colab\"/></a>"
      ]
    },
    {
      "cell_type": "code",
      "source": [
        "import tensorflow as tf\n",
        "from keras.layers import Dense, Activation\n",
        "from sklearn import datasets\n",
        "import matplotlib.pyplot as plt\n",
        "from sklearn.model_selection import train_test_split\n",
        "import numpy as np\n",
        "from sklearn.metrics import confusion_matrix, classification_report\n",
        "import sklearn as sk"
      ],
      "metadata": {
        "id": "LDwaZkbLolUR"
      },
      "execution_count": 1,
      "outputs": []
    },
    {
      "cell_type": "code",
      "source": [
        "feature_set_x, labels_y = datasets.make_moons(1000, noise=0.2)\n",
        "X_train, X_test, y_train, y_test = train_test_split(feature_set_x, labels_y, test_size=0.33, random_state=42)"
      ],
      "metadata": {
        "id": "DQluvMglEj6F"
      },
      "execution_count": 20,
      "outputs": []
    },
    {
      "cell_type": "markdown",
      "source": [
        "X_train and y_train is the pattern set to be used for training."
      ],
      "metadata": {
        "id": "R_GhFIKGYyIA"
      }
    },
    {
      "cell_type": "markdown",
      "source": [
        "X_test and y_test is the pattern set to be used for evaluation after training."
      ],
      "metadata": {
        "id": "IwwCbJxTZHz9"
      }
    },
    {
      "cell_type": "code",
      "source": [
        "X1 = []\n",
        "Y1 = []\n",
        "X2 = []\n",
        "Y2 = []\n",
        "\n",
        "for i, j in zip(feature_set_x, labels_y):\n",
        "  if j == 0:\n",
        "    X1.append(i[0])\n",
        "    Y1.append(i[1])\n",
        "  else:\n",
        "    X2.append(i[0])\n",
        "    Y2.append(i[1])"
      ],
      "metadata": {
        "id": "0zll44GcEz5G"
      },
      "execution_count": 21,
      "outputs": []
    },
    {
      "cell_type": "code",
      "source": [
        "plt.scatter(Y1, X1, color=\"Red\")\n",
        "plt.scatter(Y2, X2, color=\"Green\")\n",
        "plt.legend([\"Class 1\", \"Class 2\"])\n",
        "plt.title(\"Non-Convex Dataset\")\n",
        "plt.show()"
      ],
      "metadata": {
        "colab": {
          "base_uri": "https://localhost:8080/",
          "height": 281
        },
        "id": "3R28j4kPG5JN",
        "outputId": "dae0e413-77bd-4aee-b68f-ea81f06dc09b"
      },
      "execution_count": 22,
      "outputs": [
        {
          "output_type": "display_data",
          "data": {
            "text/plain": [
              "<Figure size 432x288 with 1 Axes>"
            ],
            "image/png": "[encoded data removed]"
          },
          "metadata": {
            "needs_background": "light"
          }
        }
      ]
    },
    {
      "cell_type": "code",
      "source": [
        "model = tf.keras.Sequential()\n",
        "model.add(Dense(50, input_dim=2, activation='relu'))\n",
        "model.add(Dense(1, activation='sigmoid'))"
      ],
      "metadata": {
        "id": "gqSjC5Pxov7U"
      },
      "execution_count": 8,
      "outputs": []
    },
    {
      "cell_type": "code",
      "source": [
        "model.compile(loss='binary_crossentropy', optimizer='adam', metrics=['accuracy'])"
      ],
      "metadata": {
        "id": "SwT_yu7go4E_"
      },
      "execution_count": 9,
      "outputs": []
    },
    {
      "cell_type": "code",
      "source": [
        "training = model.fit(X_train, y_train, epochs=50, batch_size=1)"
      ],
      "metadata": {
        "colab": {
          "base_uri": "https://localhost:8080/"
        },
        "id": "Sa7P0KhCo5_3",
        "outputId": "9957983b-106e-41ef-eaaf-14493e76bf72"
      },
      "execution_count": null,
      "outputs": [
        {
          "output_type": "stream",
          "name": "stdout",
          "text": [
            "Epoch 1/50\n",
            "670/670 [==============================] - 2s 2ms/step - loss: 0.3934 - accuracy: 0.8269\n",
            "Epoch 2/50\n",
            "670/670 [==============================] - 3s 4ms/step - loss: 0.2911 - accuracy: 0.8597\n",
            "Epoch 3/50\n",
            "670/670 [==============================] - 2s 2ms/step - loss: 0.2778 - accuracy: 0.8701\n",
            "Epoch 4/50\n",
            "670/670 [==============================] - 1s 2ms/step - loss: 0.2718 - accuracy: 0.8657\n",
            "Epoch 5/50\n",
            "670/670 [==============================] - 1s 2ms/step - loss: 0.2684 - accuracy: 0.8791\n",
            "Epoch 6/50\n",
            "670/670 [==============================] - 1s 2ms/step - loss: 0.2665 - accuracy: 0.8672\n",
            "Epoch 7/50\n",
            "670/670 [==============================] - 1s 2ms/step - loss: 0.2640 - accuracy: 0.8776\n",
            "Epoch 8/50\n",
            "670/670 [==============================] - 1s 2ms/step - loss: 0.2626 - accuracy: 0.8776\n",
            "Epoch 9/50\n",
            "670/670 [==============================] - 1s 2ms/step - loss: 0.2626 - accuracy: 0.8761\n",
            "Epoch 10/50\n",
            "670/670 [==============================] - 1s 2ms/step - loss: 0.2605 - accuracy: 0.8806\n",
            "Epoch 11/50\n",
            "670/670 [==============================] - 2s 3ms/step - loss: 0.2603 - accuracy: 0.8761\n",
            "Epoch 12/50\n",
            "670/670 [==============================] - 2s 2ms/step - loss: 0.2605 - accuracy: 0.8806\n",
            "Epoch 13/50\n",
            "670/670 [==============================] - 1s 2ms/step - loss: 0.2585 - accuracy: 0.8806\n",
            "Epoch 14/50\n",
            "670/670 [==============================] - 1s 2ms/step - loss: 0.2578 - accuracy: 0.8791\n",
            "Epoch 15/50\n",
            "670/670 [==============================] - 1s 2ms/step - loss: 0.2585 - accuracy: 0.8806\n",
            "Epoch 16/50\n",
            "670/670 [==============================] - 1s 2ms/step - loss: 0.2564 - accuracy: 0.8836\n",
            "Epoch 17/50\n",
            "670/670 [==============================] - 1s 2ms/step - loss: 0.2539 - accuracy: 0.8791\n",
            "Epoch 18/50\n",
            "670/670 [==============================] - 1s 2ms/step - loss: 0.2544 - accuracy: 0.8881\n",
            "Epoch 19/50\n",
            "670/670 [==============================] - 1s 2ms/step - loss: 0.2484 - accuracy: 0.8866\n",
            "Epoch 20/50\n",
            "670/670 [==============================] - 2s 3ms/step - loss: 0.2489 - accuracy: 0.8910\n",
            "Epoch 21/50\n",
            "670/670 [==============================] - 1s 2ms/step - loss: 0.2462 - accuracy: 0.8940\n",
            "Epoch 22/50\n",
            "670/670 [==============================] - 1s 2ms/step - loss: 0.2439 - accuracy: 0.8910\n",
            "Epoch 23/50\n",
            "670/670 [==============================] - 1s 2ms/step - loss: 0.2404 - accuracy: 0.8970\n",
            "Epoch 24/50\n",
            "670/670 [==============================] - 1s 2ms/step - loss: 0.2371 - accuracy: 0.8925\n",
            "Epoch 25/50\n",
            "670/670 [==============================] - 1s 2ms/step - loss: 0.2341 - accuracy: 0.9000\n",
            "Epoch 26/50\n",
            "670/670 [==============================] - 1s 2ms/step - loss: 0.2292 - accuracy: 0.8955\n",
            "Epoch 27/50\n",
            "670/670 [==============================] - 1s 2ms/step - loss: 0.2247 - accuracy: 0.9045\n",
            "Epoch 28/50\n",
            "670/670 [==============================] - 1s 2ms/step - loss: 0.2227 - accuracy: 0.9090\n",
            "Epoch 29/50\n",
            "670/670 [==============================] - 2s 3ms/step - loss: 0.2156 - accuracy: 0.9075\n",
            "Epoch 30/50\n",
            "670/670 [==============================] - 1s 2ms/step - loss: 0.2120 - accuracy: 0.9090\n",
            "Epoch 31/50\n",
            "670/670 [==============================] - 1s 2ms/step - loss: 0.2056 - accuracy: 0.9179\n",
            "Epoch 32/50\n",
            "670/670 [==============================] - 1s 2ms/step - loss: 0.1989 - accuracy: 0.9194\n",
            "Epoch 33/50\n",
            "670/670 [==============================] - 1s 2ms/step - loss: 0.1918 - accuracy: 0.9284\n",
            "Epoch 34/50\n",
            "670/670 [==============================] - 1s 2ms/step - loss: 0.1858 - accuracy: 0.9299\n",
            "Epoch 35/50\n",
            "670/670 [==============================] - 1s 2ms/step - loss: 0.1782 - accuracy: 0.9403\n",
            "Epoch 36/50\n",
            "670/670 [==============================] - 1s 2ms/step - loss: 0.1720 - accuracy: 0.9388\n",
            "Epoch 37/50\n",
            "670/670 [==============================] - 2s 2ms/step - loss: 0.1661 - accuracy: 0.9478\n",
            "Epoch 38/50\n",
            "670/670 [==============================] - 2s 3ms/step - loss: 0.1571 - accuracy: 0.9403\n",
            "Epoch 39/50\n",
            "670/670 [==============================] - 1s 2ms/step - loss: 0.1538 - accuracy: 0.9478\n",
            "Epoch 40/50\n",
            "670/670 [==============================] - 1s 2ms/step - loss: 0.1476 - accuracy: 0.9507\n",
            "Epoch 41/50\n",
            "670/670 [==============================] - 1s 2ms/step - loss: 0.1393 - accuracy: 0.9552\n",
            "Epoch 42/50\n",
            "670/670 [==============================] - 1s 2ms/step - loss: 0.1377 - accuracy: 0.9522\n",
            "Epoch 43/50\n",
            "670/670 [==============================] - 1s 2ms/step - loss: 0.1320 - accuracy: 0.9567\n",
            "Epoch 44/50\n",
            "670/670 [==============================] - 2s 3ms/step - loss: 0.1271 - accuracy: 0.9582\n",
            "Epoch 45/50\n",
            "670/670 [==============================] - 2s 3ms/step - loss: 0.1208 - accuracy: 0.9582\n",
            "Epoch 46/50\n",
            "670/670 [==============================] - 2s 4ms/step - loss: 0.1193 - accuracy: 0.9537\n",
            "Epoch 47/50\n",
            "670/670 [==============================] - 2s 3ms/step - loss: 0.1156 - accuracy: 0.9582\n",
            "Epoch 48/50\n",
            "670/670 [==============================] - 1s 2ms/step - loss: 0.1110 - accuracy: 0.9612\n",
            "Epoch 49/50\n",
            "670/670 [==============================] - 1s 2ms/step - loss: 0.1073 - accuracy: 0.9672\n",
            "Epoch 50/50\n",
            "670/670 [==============================] - 1s 2ms/step - loss: 0.1068 - accuracy: 0.9627\n"
          ]
        }
      ]
    },
    {
      "cell_type": "markdown",
      "source": [
        "Plot the learning curve for the training phase of the model"
      ],
      "metadata": {
        "id": "RcJAkCDxeiYD"
      }
    },
    {
      "cell_type": "code",
      "source": [
        "plt.plot(training.history['loss'])\n",
        "plt.title('Model loss')\n",
        "plt.ylabel('Loss')\n",
        "plt.xlabel('Epoch')\n",
        "plt.legend(['Train'], loc='upper left')\n",
        "plt.show()"
      ],
      "metadata": {
        "colab": {
          "base_uri": "https://localhost:8080/",
          "height": 295
        },
        "id": "Zhuv0vFfdldN",
        "outputId": "c8985b8e-4be0-4dab-e047-20918eb3c340"
      },
      "execution_count": null,
      "outputs": [
        {
          "output_type": "display_data",
          "data": {
            "text/plain": [
              "<Figure size 432x288 with 1 Axes>"
            ],
            "image/png": "[encoded data removed]"
          },
          "metadata": {
            "needs_background": "light"
          }
        }
      ]
    },
    {
      "cell_type": "code",
      "source": [
        "score = model.evaluate(X_test, y_test, verbose=0)"
      ],
      "metadata": {
        "id": "ljbm8UY9o8BE"
      },
      "execution_count": null,
      "outputs": []
    },
    {
      "cell_type": "code",
      "source": [
        "print('Test accuracy percentage :', score[1]*100)"
      ],
      "metadata": {
        "colab": {
          "base_uri": "https://localhost:8080/"
        },
        "id": "f0byt2jGNBRO",
        "outputId": "d3435061-3337-4102-d0c3-1a6b44ed9269"
      },
      "execution_count": null,
      "outputs": [
        {
          "output_type": "stream",
          "name": "stdout",
          "text": [
            "Test accuracy percentage : 96.36363387107849\n"
          ]
        }
      ]
    },
    {
      "cell_type": "code",
      "source": [
        "predicted = model.predict(X_test)\n",
        "predicted = np.argmax(predicted, axis=1)"
      ],
      "metadata": {
        "colab": {
          "base_uri": "https://localhost:8080/"
        },
        "id": "uMcuf0jFkOtU",
        "outputId": "48eb8808-041b-4fc5-cbb1-2cd050e7a237"
      },
      "execution_count": null,
      "outputs": [
        {
          "output_type": "stream",
          "name": "stdout",
          "text": [
            "11/11 [==============================] - 0s 3ms/step\n"
          ]
        }
      ]
    },
    {
      "cell_type": "code",
      "source": [
        "matrix = confusion_matrix(y_test, predicted)\n",
        "print(matrix)"
      ],
      "metadata": {
        "colab": {
          "base_uri": "https://localhost:8080/"
        },
        "id": "-s7gM7ZYfWDm",
        "outputId": "e80bde90-f13f-4729-965b-8d1adce25ccc"
      },
      "execution_count": null,
      "outputs": [
        {
          "output_type": "stream",
          "name": "stdout",
          "text": [
            "[[159   0]\n",
            " [171   0]]\n"
          ]
        }
      ]
    },
    {
      "cell_type": "code",
      "source": [
        "matrix = confusion_matrix(y_test, predicted,normalize='true')\n",
        "plt.imshow(matrix)"
      ],
      "metadata": {
        "colab": {
          "base_uri": "https://localhost:8080/",
          "height": 286
        },
        "id": "JS1LsTRiwrfP",
        "outputId": "e9cc1320-ff5b-4ecd-8c22-6588b57a8951"
      },
      "execution_count": null,
      "outputs": [
        {
          "output_type": "execute_result",
          "data": {
            "text/plain": [
              "<matplotlib.image.AxesImage at 0x7f35c5411310>"
            ]
          },
          "metadata": {},
          "execution_count": 43
        },
        {
          "output_type": "display_data",
          "data": {
            "text/plain": [
              "<Figure size 432x288 with 1 Axes>"
            ],
            "image/png": "[encoded data removed]"
          },
          "metadata": {
            "needs_background": "light"
          }
        }
      ]
    },
    {
      "cell_type": "code",
      "source": [
        "report = classification_report(y_test, predicted)\n",
        "print(report)"
      ],
      "metadata": {
        "colab": {
          "base_uri": "https://localhost:8080/"
        },
        "id": "Ni00K3Nzw8HP",
        "outputId": "fe96c99e-7981-4b7e-db8d-05a3ce884204"
      },
      "execution_count": null,
      "outputs": [
        {
          "output_type": "stream",
          "name": "stdout",
          "text": [
            "              precision    recall  f1-score   support\n",
            "\n",
            "           0       0.48      1.00      0.65       159\n",
            "           1       0.00      0.00      0.00       171\n",
            "\n",
            "    accuracy                           0.48       330\n",
            "   macro avg       0.24      0.50      0.33       330\n",
            "weighted avg       0.23      0.48      0.31       330\n",
            "\n"
          ]
        },
        {
          "output_type": "stream",
          "name": "stderr",
          "text": [
            "/usr/local/lib/python3.8/dist-packages/sklearn/metrics/_classification.py:1318: UndefinedMetricWarning: Precision and F-score are ill-defined and being set to 0.0 in labels with no predicted samples. Use `zero_division` parameter to control this behavior.\n",
            "  _warn_prf(average, modifier, msg_start, len(result))\n",
            "/usr/local/lib/python3.8/dist-packages/sklearn/metrics/_classification.py:1318: UndefinedMetricWarning: Precision and F-score are ill-defined and being set to 0.0 in labels with no predicted samples. Use `zero_division` parameter to control this behavior.\n",
            "  _warn_prf(average, modifier, msg_start, len(result))\n",
            "/usr/local/lib/python3.8/dist-packages/sklearn/metrics/_classification.py:1318: UndefinedMetricWarning: Precision and F-score are ill-defined and being set to 0.0 in labels with no predicted samples. Use `zero_division` parameter to control this behavior.\n",
            "  _warn_prf(average, modifier, msg_start, len(result))\n"
          ]
        }
      ]
    },
    {
      "cell_type": "code",
      "source": [
        "tp = matrix[0][0]\n",
        "fn = matrix[0][1]\n",
        "fp = matrix[1][0]\n",
        "tn = matrix[1][1]"
      ],
      "metadata": {
        "id": "gqRomgckllHA"
      },
      "execution_count": null,
      "outputs": []
    },
    {
      "cell_type": "markdown",
      "source": [
        "tp is true positive, fn is false negative, fp is false positive, tn is true negative."
      ],
      "metadata": {
        "id": "Wrf4VO6nxvU5"
      }
    },
    {
      "cell_type": "code",
      "source": [
        "sensitivity= tp/(tp+fn)\n",
        "print(sensitivity)"
      ],
      "metadata": {
        "colab": {
          "base_uri": "https://localhost:8080/"
        },
        "id": "jncbs3N7maut",
        "outputId": "fed33d3a-92ed-4cf2-946e-eeb2f601401b"
      },
      "execution_count": null,
      "outputs": [
        {
          "output_type": "stream",
          "name": "stdout",
          "text": [
            "1.0\n"
          ]
        }
      ]
    },
    {
      "cell_type": "code",
      "source": [
        "specificity = tn/(tn+fp)\n",
        "print(specificity)"
      ],
      "metadata": {
        "colab": {
          "base_uri": "https://localhost:8080/"
        },
        "id": "KSaC8eS6meNy",
        "outputId": "64da03c5-0f3d-41e5-8bea-9ff99f847e93"
      },
      "execution_count": null,
      "outputs": [
        {
          "output_type": "stream",
          "name": "stdout",
          "text": [
            "0.0\n"
          ]
        }
      ]
    },
    {
      "cell_type": "code",
      "source": [
        "precision = tp/(tp+fp)\n",
        "print(precision)"
      ],
      "metadata": {
        "colab": {
          "base_uri": "https://localhost:8080/"
        },
        "id": "7Bhg5WgcmoSC",
        "outputId": "d5b0d7ca-f870-4a7c-8231-1e74c22dbc15"
      },
      "execution_count": null,
      "outputs": [
        {
          "output_type": "stream",
          "name": "stdout",
          "text": [
            "0.4818181818181818\n"
          ]
        }
      ]
    },
    {
      "cell_type": "markdown",
      "source": [
        "Increasing number of hidden layers"
      ],
      "metadata": {
        "id": "neNJx0HCmy5Z"
      }
    },
    {
      "cell_type": "code",
      "source": [
        "model2 = tf.keras.Sequential()\n",
        "model2.add(Dense(50, input_dim=2, activation='relu'))\n",
        "model2.add(Dense(30, activation='relu'))\n",
        "model2.add(Dense(1, activation='sigmoid'))"
      ],
      "metadata": {
        "id": "4rMoN3U1fWlP"
      },
      "execution_count": null,
      "outputs": []
    },
    {
      "cell_type": "code",
      "source": [
        "model2.compile(loss='binary_crossentropy', optimizer='adam', metrics=['accuracy'])"
      ],
      "metadata": {
        "id": "uieVS0lyfWlQ"
      },
      "execution_count": null,
      "outputs": []
    },
    {
      "cell_type": "code",
      "source": [
        "history2 = model2.fit(X_train, y_train, epochs=50, batch_size=1)"
      ],
      "metadata": {
        "id": "WyWFjoDWfWlR"
      },
      "execution_count": null,
      "outputs": []
    },
    {
      "cell_type": "code",
      "source": [
        "plt.plot(history2.history['loss'])\n",
        "plt.title('Model loss')\n",
        "plt.ylabel('Loss')\n",
        "plt.xlabel('Epoch')\n",
        "plt.legend(['Train'], loc='upper left')\n",
        "plt.show()"
      ],
      "metadata": {
        "id": "HWvSqMYkfWlR"
      },
      "execution_count": null,
      "outputs": []
    },
    {
      "cell_type": "code",
      "source": [
        "score2 = model2.evaluate(X_test, y_test, verbose=0)"
      ],
      "metadata": {
        "id": "KsO8r0BsfWlS"
      },
      "execution_count": null,
      "outputs": []
    },
    {
      "cell_type": "code",
      "source": [
        "print('Test accuracy percentage :', score2[1]*100)"
      ],
      "metadata": {
        "id": "eAmSfJ3EfWlT"
      },
      "execution_count": null,
      "outputs": []
    },
    {
      "cell_type": "markdown",
      "source": [
        "Upon increasing the number of hidden layers, the time taken for training increased as the model complexity increased."
      ],
      "metadata": {
        "id": "v6R6HCMxm4lS"
      }
    },
    {
      "cell_type": "markdown",
      "source": [
        "Increasing number of neurons in hidden layers"
      ],
      "metadata": {
        "id": "3loddN1pnZV7"
      }
    },
    {
      "cell_type": "code",
      "source": [
        "model3 = tf.keras.Sequential()\n",
        "model3.add(Dense(50, input_dim=2, activation='relu'))\n",
        "model3.add(Dense(45, activation='relu'))\n",
        "model3.add(Dense(1, activation='sigmoid'))"
      ],
      "metadata": {
        "id": "KbuBybe7nZV8"
      },
      "execution_count": null,
      "outputs": []
    },
    {
      "cell_type": "code",
      "source": [
        "model3.compile(loss='binary_crossentropy', optimizer='adam', metrics=['accuracy'])"
      ],
      "metadata": {
        "id": "w_CF5k_vnZV9"
      },
      "execution_count": null,
      "outputs": []
    },
    {
      "cell_type": "code",
      "source": [
        "history3 = model3.fit(X_train, y_train, epochs=50, batch_size=1)"
      ],
      "metadata": {
        "id": "TpP6eE2fnZV-"
      },
      "execution_count": null,
      "outputs": []
    },
    {
      "cell_type": "code",
      "source": [
        "plt.plot(history3.history['loss'])\n",
        "plt.title('Model loss')\n",
        "plt.ylabel('Loss')\n",
        "plt.xlabel('Epoch')\n",
        "plt.legend(['Train'], loc='upper left')\n",
        "plt.show()"
      ],
      "metadata": {
        "id": "S8k89PdZnZV_"
      },
      "execution_count": null,
      "outputs": []
    },
    {
      "cell_type": "code",
      "source": [
        "score3 = model3.evaluate(X_test, y_test, verbose=0)"
      ],
      "metadata": {
        "id": "g3MfLkx5nZWA"
      },
      "execution_count": null,
      "outputs": []
    },
    {
      "cell_type": "code",
      "source": [
        "print('Test accuracy percentage :', score3[1]*100)"
      ],
      "metadata": {
        "id": "VDzUGDIznZWA"
      },
      "execution_count": null,
      "outputs": []
    },
    {
      "cell_type": "markdown",
      "source": [
        "Adding data normalization\n"
      ],
      "metadata": {
        "id": "4dvFCgb1vEsJ"
      }
    },
    {
      "cell_type": "code",
      "source": [
        "X_train = X_train.astype(np.float32)\n",
        "X_train = X_train/3\n",
        "X_test = X_test.astype(np.float32)\n",
        "X_test = X_test/3"
      ],
      "metadata": {
        "id": "6hFGhQSevLR1"
      },
      "execution_count": null,
      "outputs": []
    },
    {
      "cell_type": "code",
      "source": [
        "model4 = tf.keras.Sequential()\n",
        "model4.add(Dense(50, input_dim=2, activation='relu'))\n",
        "model4.add(Dense(30, activation='relu'))\n",
        "model4.add(Dense(1, activation='sigmoid'))"
      ],
      "metadata": {
        "id": "iuZr1dVmvEsK"
      },
      "execution_count": null,
      "outputs": []
    },
    {
      "cell_type": "code",
      "source": [
        "model4.compile(loss='binary_crossentropy', optimizer='adam', metrics=['accuracy'])"
      ],
      "metadata": {
        "id": "ei05-f5MvEsK"
      },
      "execution_count": null,
      "outputs": []
    },
    {
      "cell_type": "code",
      "source": [
        "history4 = model4.fit(X_train, y_train, epochs=50, batch_size=1)"
      ],
      "metadata": {
        "id": "KK38Ce2DvEsK"
      },
      "execution_count": null,
      "outputs": []
    },
    {
      "cell_type": "code",
      "source": [
        "plt.plot(history4.history['loss'])\n",
        "plt.title('Model loss')\n",
        "plt.ylabel('Loss')\n",
        "plt.xlabel('Epoch')\n",
        "plt.legend(['Train'], loc='upper left')\n",
        "plt.show()"
      ],
      "metadata": {
        "id": "JJ1wp4MpvEsK"
      },
      "execution_count": null,
      "outputs": []
    },
    {
      "cell_type": "code",
      "source": [
        "score4 = model4.evaluate(X_test, y_test, verbose=0)"
      ],
      "metadata": {
        "id": "sU3CuJF3vEsK"
      },
      "execution_count": null,
      "outputs": []
    },
    {
      "cell_type": "code",
      "source": [
        "print('Test accuracy percentage :', score4[1]*100)"
      ],
      "metadata": {
        "id": "Ur5BtdIYvEsL"
      },
      "execution_count": null,
      "outputs": []
    },
    {
      "cell_type": "code",
      "source": [
        "from tensorflow.keras.optimizers import SGD\n",
        "\n",
        "model = tf.keras.Sequential()\n",
        "model.add(Dense(50, input_dim=2, activation='relu'))\n",
        "model.add(Dense(1, activation='sigmoid'))\n",
        "\n",
        "learning_rate = 0.09\n",
        "momentum = 0.1\n",
        "\n",
        "# Create optimizer with specified learning rate and momentum\n",
        "optimizer = SGD(lr=learning_rate, momentum=momentum)\n",
        "\n",
        "model.compile(loss='binary_crossentropy', optimizer=optimizer, metrics=['accuracy'])\n",
        "\n",
        "training = model.fit(X_train, y_train, epochs=30, batch_size=1)\n",
        "\n",
        "\"\"\"Plot the learning curve for the training phase of the model\"\"\"\n",
        "\n",
        "plt.plot(training.history['loss'])\n",
        "plt.title('Model loss')\n",
        "plt.ylabel('Loss')\n",
        "plt.xlabel('Epoch')\n",
        "plt.legend(['Train'], loc='upper left')\n",
        "plt.show()\n",
        "\n",
        "score = model.evaluate(X_test, y_test, verbose=0)\n",
        "\n",
        "print('Test accuracy percentage :', score[1]*100)"
      ],
      "metadata": {
        "id": "bOdfODS2HVTV"
      },
      "execution_count": null,
      "outputs": []
    },
    {
      "cell_type": "code",
      "execution_count": 23,
      "metadata": {
        "id": "pQRSfdLJ49rC",
        "colab": {
          "base_uri": "https://localhost:8080/"
        },
        "outputId": "9f427f7f-160a-4de0-f46a-688eb573fe86"
      },
      "outputs": [
        {
          "output_type": "stream",
          "name": "stdout",
          "text": [
            "Accuracy of SVC = 0.9696969696969697 \n"
          ]
        }
      ],
      "source": [
        "from sklearn.svm import SVC\n",
        "svc = SVC(C=2)\n",
        "svc.fit(X_train, y_train)\n",
        "y_predict = svc.predict(X_test)\n",
        "svm_accuracy = sk.metrics.accuracy_score(y_test, y_predict)\n",
        "print('Accuracy of SVC = {} '.format(svm_accuracy))"
      ]
    },
    {
      "cell_type": "code",
      "execution_count": 24,
      "metadata": {
        "colab": {
          "base_uri": "https://localhost:8080/"
        },
        "id": "KVRezk2x49rD",
        "outputId": "05e56a42-28ed-4266-dd40-620c98cab131"
      },
      "outputs": [
        {
          "output_type": "stream",
          "name": "stdout",
          "text": [
            "Accuracy of SVM Algorithm:  96.96969696969697\n",
            "Confusion matrix: \n",
            "[[148   2]\n",
            " [  8 172]]\n"
          ]
        }
      ],
      "source": [
        "# Accuracy Score\n",
        "print('Accuracy of SVM Algorithm: '\n",
        "      , sk.metrics.accuracy_score(y_test, y_predict)*100)\n",
        "\n",
        "# confusion matrix\n",
        "print('Confusion matrix: ')\n",
        "cm_SVM = sk.metrics.confusion_matrix(y_test, y_predict)\n",
        "print(cm_SVM)\n",
        "\n"
      ]
    },
    {
      "cell_type": "code",
      "source": [],
      "metadata": {
        "id": "G9jWHBGfErPi"
      },
      "execution_count": null,
      "outputs": []
    }
  ]
}